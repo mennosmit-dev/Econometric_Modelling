{
 "cells": [
  {
   "cell_type": "code",
   "execution_count": 1,
   "id": "1cefce07-4b37-4914-9a6a-8eba38b7c30e",
   "metadata": {},
   "outputs": [],
   "source": [
    "#import libraries\n"
   ]
  },
  {
   "cell_type": "code",
   "execution_count": 68,
   "id": "671a14cc-cc38-416d-89e4-c1570eca7ea3",
   "metadata": {},
   "outputs": [],
   "source": [
    "#calculates the expected return of the portfolio\n",
    "\n",
    "\n",
    "    "
   ]
  },
  {
   "cell_type": "code",
   "execution_count": 4,
   "id": "d8827e8a-7d73-43ac-b628-e61ed2951f54",
   "metadata": {},
   "outputs": [],
   "source": [
    "#Calculates Variance portfolio \n"
   ]
  },
  {
   "cell_type": "code",
   "execution_count": 5,
   "id": "f5fdb69e-0792-4bf1-bd41-36671efe7df3",
   "metadata": {},
   "outputs": [],
   "source": []
  },
  {
   "cell_type": "code",
   "execution_count": 6,
   "id": "b233d03f-7b11-4e6e-94a7-2dc49db22801",
   "metadata": {},
   "outputs": [],
   "source": [
    "#Calculates Certainty Equivalent\n"
   ]
  },
  {
   "cell_type": "code",
   "execution_count": 7,
   "id": "f56827c4-ce92-4ca1-9883-0a443ed0bce3",
   "metadata": {},
   "outputs": [],
   "source": [
    "#Calculates the GMV weights\n"
   ]
  },
  {
   "cell_type": "code",
   "execution_count": 37,
   "id": "35bb9b23-da48-402b-b2fb-8d4f4eb4fbf7",
   "metadata": {},
   "outputs": [
    {
     "name": "stdout",
     "output_type": "stream",
     "text": [
      "mu_mv: [[0.47676169]]\n",
      "vol_mv: [[0.99585294]]\n",
      "sh_mv: [[0.47874708]]\n",
      "ce_mv: [[-0.51496139]]\n",
      "mu_ce: [[0.09549953]]\n",
      "vol_ce: [[0.19947805]]\n",
      "sh_ce: [[0.47874708]]\n",
      "ce_ce: [[0.05570804]]\n",
      "mu_gmv: [0.04954128]\n",
      "vol_gmv: 0.15432599833297012\n",
      "sh_gmv: [0.3210171]\n",
      "ce_gmv: [0.02572477]\n",
      "mu_ew: [[0.1]]\n",
      "vol_ew: [[0.20976177]]\n",
      "sh_ew: [[0.47673129]]\n",
      "ce_ew: [[0.056]]\n"
     ]
    }
   ],
   "source": [
    "import numpy as np\n",
    "\n",
    "# Initialsing N, beta, f_mu, f_sigma, error_covariance_matrix, Sigma_R, \n",
    "N = 10\n",
    "beta = np.linspace(0.5, 1.5, N).reshape(-1,1)\n",
    "mu_f = 0.1\n",
    "sigma_f = 0.2\n",
    "error_covariance_matrix = np.diag([(0.3-0.1)**2]* N)\n",
    "Sigma_R = np.dot(beta, beta.T)*(sigma_f**2) + error_covariance_matrix\n",
    "risk_aversion = 2\n",
    "ones = np.ones(Sigma_R.shape[0])\n",
    "\n",
    "#MV portfolio\n",
    "w_mv = np.linalg.inv(Sigma_R) @ beta * mu_f / ones.T @ np.linalg.inv(Sigma_R) @ beta * mu_f\n",
    "mu_mv =  np.dot(w_mv.T, beta * mu_f)\n",
    "var_mv = np.dot(w_mv.T, np.dot(Sigma_R, w_mv))  \n",
    "sh_mv = mu_mv/np.sqrt(var_mv)\n",
    "ce_mv = w_mv.T @ beta * mu_f - (1 / 2) * risk_aversion * w_mv.T @ Sigma_R @ w_mv\n",
    "print(\"mu_mv:\", mu_mv)\n",
    "print(\"vol_mv:\", np.sqrt(var_mv))\n",
    "print(\"sh_mv:\", sh_mv)\n",
    "print(\"ce_mv:\", ce_mv)\n",
    "\n",
    "#CE portfolio\n",
    "w_ce = (1 / risk_aversion) * np.linalg.inv(Sigma_R) @ beta * mu_f + (1 - (1 / risk_aversion) * ones.T @ np.linalg.inv(Sigma_R) @ beta * mu_f) * w_mv\n",
    "mu_ce =  np.dot(w_ce.T, beta * mu_f)\n",
    "var_ce = np.dot(w_ce.T, np.dot(Sigma_R, w_ce))  \n",
    "sh_ce = mu_ce/np.sqrt(var_ce)\n",
    "ce_ce = w_ce.T @ beta * mu_f - (1 / 2) * risk_aversion * w_ce.T @ Sigma_R @ w_ce\n",
    "print(\"mu_ce:\", mu_ce)\n",
    "print(\"vol_ce:\", np.sqrt(var_ce))\n",
    "print(\"sh_ce:\", sh_ce)\n",
    "print(\"ce_ce:\", ce_ce)\n",
    "\n",
    "#GMV portfolio\n",
    "w_gmv = (np.linalg.inv(Sigma_R) @ ones) / (ones.T @ np.linalg.inv(Sigma_R) @ ones)\n",
    "mu_gmv =  np.dot(w_gmv.T, beta * mu_f)\n",
    "var_gmv = np.dot(w_gmv.T, np.dot(Sigma_R, w_gmv))  \n",
    "sh_gmv = mu_gmv/np.sqrt(var_gmv)\n",
    "ce_gmv = w_gmv.T @ beta * mu_f - (1 / 2) * risk_aversion * w_gmv.T @ Sigma_R @ w_gmv\n",
    "print(\"mu_gmv:\", mu_gmv)\n",
    "print(\"vol_gmv:\", np.sqrt(var_gmv))\n",
    "print(\"sh_gmv:\", sh_gmv)\n",
    "print(\"ce_gmv:\", ce_gmv)\n",
    "\n",
    "w_ew = np.full(N, 1 / N).reshape(-1,1)\n",
    "mu_ew =  np.dot(w_ew.T, beta * mu_f)\n",
    "var_ew = np.dot(w_ew.T, np.dot(Sigma_R, w_ew))  \n",
    "sh_ew = mu_ew/np.sqrt(var_ew)\n",
    "ce_ew = w_ew.T @ beta * mu_f - (1 / 2) * risk_aversion * w_ew.T @ Sigma_R @ w_ew\n",
    "print(\"mu_ew:\", mu_ew)\n",
    "print(\"vol_ew:\", np.sqrt(var_ew))\n",
    "print(\"sh_ew:\", sh_ew)\n",
    "print(\"ce_ew:\", ce_ew)\n",
    "\n",
    "\n",
    "\n"
   ]
  },
  {
   "cell_type": "code",
   "execution_count": null,
   "id": "f805f5c6-f276-40fb-98e7-293e9b307608",
   "metadata": {},
   "outputs": [],
   "source": []
  }
 ],
 "metadata": {
  "kernelspec": {
   "display_name": "Python 3 (ipykernel)",
   "language": "python",
   "name": "python3"
  },
  "language_info": {
   "codemirror_mode": {
    "name": "ipython",
    "version": 3
   },
   "file_extension": ".py",
   "mimetype": "text/x-python",
   "name": "python",
   "nbconvert_exporter": "python",
   "pygments_lexer": "ipython3",
   "version": "3.12.7"
  }
 },
 "nbformat": 4,
 "nbformat_minor": 5
}
